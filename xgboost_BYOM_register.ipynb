{
 "cells": [
  {
   "cell_type": "code",
   "execution_count": 2,
   "id": "7ec783f7",
   "metadata": {
    "Collapsed": "false"
   },
   "outputs": [
    {
     "name": "stdout",
     "output_type": "stream",
     "text": [
      "/opt/conda/lib/python3.7/site-packages/secretstorage/dhcrypto.py:16: CryptographyDeprecationWarning: int_from_bytes is deprecated, use int.from_bytes instead\n",
      "  from cryptography.utils import int_from_bytes\n",
      "/opt/conda/lib/python3.7/site-packages/secretstorage/util.py:25: CryptographyDeprecationWarning: int_from_bytes is deprecated, use int.from_bytes instead\n",
      "  from cryptography.utils import int_from_bytes\n",
      "\u001b[33mWARNING: Running pip as the 'root' user can result in broken permissions and conflicting behaviour with the system package manager. It is recommended to use a virtual environment instead: https://pip.pypa.io/warnings/venv\u001b[0m\n"
     ]
    }
   ],
   "source": [
    "!pip install -Uq xgboost"
   ]
  },
  {
   "cell_type": "markdown",
   "id": "e98eac25",
   "metadata": {
    "Collapsed": "false"
   },
   "source": [
    "# Amazon SageMaker XGBoost Bring Your Own Model\n",
    "_**Hosting a Pre-Trained scikit-learn Model in Amazon SageMaker XGBoost Algorithm Container**_\n",
    "\n",
    "---\n",
    "\n",
    "---\n",
    "\n",
    "## Contents\n",
    "\n",
    "1. [Background](#Background)\n",
    "1. [Setup](#Setup)\n",
    "1. [Optionally, train a scikit learn XGBoost model](#Optionally,-train-a-scikit-learn-XGBoost-model)\n",
    "1. [Upload the pre-trained model to S3](#Upload-the-pre-trained-model-to-S3)\n",
    "1. [Set up hosting for the model](#Set-up-hosting-for-the-model)\n",
    "1. [Validate the model for use](#Validate-the-model-for-use)\n",
    "\n",
    "\n",
    "\n",
    "\n",
    "---\n",
    "## Background\n",
    "\n",
    "Amazon SageMaker includes functionality to support a hosted notebook environment, distributed, serverless training, and real-time hosting. We think it works best when all three of these services are used together, but they can also be used independently.  Some use cases may only require hosting.  Maybe the model was trained prior to Amazon SageMaker existing, in a different service.\n",
    "\n",
    "This notebook shows how to use a pre-existing scikit-learn trained XGBoost model with the Amazon SageMaker XGBoost Algorithm container to quickly create a hosted endpoint for that model. Please note that scikit-learn XGBoost model is compatible with SageMaker XGBoost container, whereas other gradient boosted tree models (such as one trained in SparkML) are not.\n",
    "\n",
    "---\n",
    "## Setup\n",
    "\n",
    "Let's start by specifying:\n",
    "\n",
    "* AWS region.\n",
    "* The IAM role arn used to give learning and hosting access to your data. See the documentation for how to specify these.\n",
    "* The S3 bucket that you want to use for training and model data."
   ]
  },
  {
   "cell_type": "code",
   "execution_count": 34,
   "id": "f1423d51",
   "metadata": {
    "Collapsed": "false"
   },
   "outputs": [
    {
     "name": "stdout",
     "output_type": "stream",
     "text": [
      "CPU times: user 90.8 ms, sys: 4 ms, total: 94.8 ms\n",
      "Wall time: 349 ms\n"
     ]
    }
   ],
   "source": [
    "%%time\n",
    "\n",
    "import os\n",
    "import boto3\n",
    "import re\n",
    "import json\n",
    "import sagemaker\n",
    "import datetime\n",
    "from sagemaker import get_execution_role\n",
    "import random\n",
    "\n",
    "region = boto3.Session().region_name\n",
    "\n",
    "role = get_execution_role()\n",
    "\n",
    "bucket = sagemaker.Session().default_bucket()"
   ]
  },
  {
   "cell_type": "code",
   "execution_count": 35,
   "id": "73c1a804",
   "metadata": {
    "Collapsed": "false"
   },
   "outputs": [],
   "source": [
    "now = datetime.datetime.now().strftime(\"%Y%m%d-%H-%M-%S\")\n",
    "rand = random.randint(0, 100)\n",
    "prefix = f\"sagemaker/xgboost-byo-12-{now}-{rand}\"\n",
    "bucket_path = \"https://s3-{}.amazonaws.com/{}\".format(region, bucket)\n",
    "# customize to your bucket where you have stored the data"
   ]
  },
  {
   "cell_type": "markdown",
   "id": "8f162956",
   "metadata": {
    "Collapsed": "false"
   },
   "source": [
    "## Optionally, train a scikit learn XGBoost model\n",
    "\n",
    "These steps are optional and are needed to generate the scikit-learn model that will eventually be hosted using the SageMaker Algorithm contained. \n",
    "\n",
    "### Install XGboost\n",
    "Note that for conda based installation, you'll need to change the Notebook kernel to the environment with conda and Python3. "
   ]
  },
  {
   "cell_type": "code",
   "execution_count": 6,
   "id": "db230807",
   "metadata": {
    "Collapsed": "false"
   },
   "outputs": [
    {
     "name": "stdout",
     "output_type": "stream",
     "text": [
      "Collecting package metadata (current_repodata.json): done\n",
      "Solving environment: done\n",
      "\n",
      "# All requested packages already installed.\n",
      "\n"
     ]
    }
   ],
   "source": [
    "!conda install -y -c conda-forge xgboost==0.90"
   ]
  },
  {
   "cell_type": "markdown",
   "id": "76c95ee8",
   "metadata": {
    "Collapsed": "false"
   },
   "source": [
    "### Fetch the dataset"
   ]
  },
  {
   "cell_type": "code",
   "execution_count": 7,
   "id": "4322e3a6",
   "metadata": {
    "Collapsed": "false"
   },
   "outputs": [
    {
     "name": "stdout",
     "output_type": "stream",
     "text": [
      "                           PRE MNIST/\n",
      "                           PRE model/\n",
      "                           PRE pytorch/\n",
      "                           PRE test/\n",
      "                           PRE train/\n",
      "2020-11-18 02:38:22          0 \n",
      "2020-12-28 19:34:02  220080426 mnist.pkl\n",
      "2021-05-20 17:34:52   16168813 mnist.pkl.gz\n",
      "2020-11-18 02:41:35    1648877 t10k-images-idx3-ubyte.gz\n",
      "2020-11-18 02:41:27       4542 t10k-labels-idx1-ubyte.gz\n",
      "2020-11-18 02:41:45    9912422 train-images-idx3-ubyte.gz\n",
      "2020-11-18 02:41:28      28881 train-labels-idx1-ubyte.gz\n"
     ]
    }
   ],
   "source": [
    "!aws s3 ls s3://sagemaker-sample-files/datasets/image/MNIST/"
   ]
  },
  {
   "cell_type": "markdown",
   "id": "edb184b0",
   "metadata": {
    "Collapsed": "false"
   },
   "source": [
    "### Prepare the dataset for training"
   ]
  },
  {
   "cell_type": "code",
   "execution_count": 8,
   "id": "eee37978",
   "metadata": {
    "Collapsed": "false"
   },
   "outputs": [
    {
     "name": "stdout",
     "output_type": "stream",
     "text": [
      "CPU times: user 1.03 s, sys: 418 ms, total: 1.45 s\n",
      "Wall time: 2.88 s\n"
     ]
    }
   ],
   "source": [
    "%%time\n",
    "import pickle\n",
    "import boto3\n",
    "import gzip\n",
    "\n",
    "# Get the data from a public S3\n",
    "buf=boto3.client('s3').get_object(\n",
    "    Bucket='sagemaker-sample-files',\n",
    "    Key='datasets/image/MNIST/mnist.pkl.gz'\n",
    ")['Body'].read()\n",
    "\n",
    "\n",
    "# decompress the buffer\n",
    "decomp_buf = gzip.decompress(buf)\n",
    "train_set, valid_set, test_set = pickle.loads(decomp_buf, encoding=\"latin1\")"
   ]
  },
  {
   "cell_type": "code",
   "execution_count": 9,
   "id": "cb2d220b",
   "metadata": {
    "Collapsed": "false"
   },
   "outputs": [],
   "source": [
    "train_X = train_set[0]\n",
    "train_y = train_set[1]\n",
    "\n",
    "valid_X = valid_set[0]\n",
    "valid_y = valid_set[1]\n",
    "\n",
    "test_X = test_set[0]\n",
    "test_y = test_set[1]"
   ]
  },
  {
   "cell_type": "markdown",
   "id": "121ea0e5",
   "metadata": {
    "Collapsed": "false"
   },
   "source": [
    "### Train the XGBClassifier"
   ]
  },
  {
   "cell_type": "code",
   "execution_count": 10,
   "id": "cca02466",
   "metadata": {
    "Collapsed": "false"
   },
   "outputs": [
    {
     "data": {
      "text/plain": [
       "XGBClassifier(base_score=0.5, booster='gbtree', colsample_bylevel=1,\n",
       "              colsample_bynode=1, colsample_bytree=1, gamma=0,\n",
       "              learning_rate=0.2, max_delta_step=0, max_depth=5,\n",
       "              min_child_weight=1, missing=None, n_estimators=10, n_jobs=1,\n",
       "              nthread=None, objective='multi:softprob', random_state=0,\n",
       "              reg_alpha=0, reg_lambda=1, scale_pos_weight=1, seed=None,\n",
       "              silent=None, subsample=1, verbosity=1)"
      ]
     },
     "execution_count": 10,
     "metadata": {},
     "output_type": "execute_result"
    }
   ],
   "source": [
    "import xgboost as xgb\n",
    "import sklearn as sk\n",
    "\n",
    "bt = xgb.XGBClassifier(\n",
    "    max_depth=5, learning_rate=0.2, n_estimators=10, objective=\"multi:softmax\"\n",
    ")  # Setup xgboost model\n",
    "bt.fit(train_X, train_y, eval_set=[(valid_X, valid_y)], verbose=False)  # Train it to our data"
   ]
  },
  {
   "cell_type": "markdown",
   "id": "2cdc4470",
   "metadata": {
    "Collapsed": "false"
   },
   "source": [
    "### Save the trained model file\n",
    "Note that the model file name must satisfy the regular expression pattern: `^[a-zA-Z0-9](-*[a-zA-Z0-9])*;`. The model file also need to tar-zipped. "
   ]
  },
  {
   "cell_type": "code",
   "execution_count": 11,
   "id": "d4bab084",
   "metadata": {
    "Collapsed": "false"
   },
   "outputs": [],
   "source": [
    "model_file_name = \"local-xgboost-model\"+now+rand\n",
    "bt.save_model(model_file_name)"
   ]
  },
  {
   "cell_type": "code",
   "execution_count": 12,
   "id": "2ef4b532",
   "metadata": {
    "Collapsed": "false"
   },
   "outputs": [
    {
     "name": "stdout",
     "output_type": "stream",
     "text": [
      "local-xgboost-model20211216-16-44-22\n"
     ]
    }
   ],
   "source": [
    "!tar czvf model.tar.gz $model_file_name"
   ]
  },
  {
   "cell_type": "markdown",
   "id": "ea72ab69",
   "metadata": {
    "Collapsed": "false"
   },
   "source": [
    "## Upload the pre-trained model to S3"
   ]
  },
  {
   "cell_type": "code",
   "execution_count": 13,
   "id": "a9ccd9a2",
   "metadata": {
    "Collapsed": "false"
   },
   "outputs": [],
   "source": [
    "fObj = open(\"model.tar.gz\", \"rb\")\n",
    "key = os.path.join(prefix, model_file_name, \"model.tar.gz\")\n",
    "boto3.Session().resource(\"s3\").Bucket(bucket).Object(key).upload_fileobj(fObj)"
   ]
  },
  {
   "cell_type": "markdown",
   "id": "1411679c",
   "metadata": {
    "Collapsed": "false"
   },
   "source": [
    "## Set up hosting for the model\n",
    "\n",
    "### Import model into hosting\n",
    "This involves creating a SageMaker model from the model file previously uploaded to S3."
   ]
  },
  {
   "cell_type": "code",
   "execution_count": 14,
   "id": "155a12b2",
   "metadata": {
    "Collapsed": "false"
   },
   "outputs": [
    {
     "name": "stderr",
     "output_type": "stream",
     "text": [
      "The method get_image_uri has been renamed in sagemaker>=2.\n",
      "See: https://sagemaker.readthedocs.io/en/stable/v2.html for details.\n"
     ]
    }
   ],
   "source": [
    "from sagemaker.amazon.amazon_estimator import get_image_uri\n",
    "\n",
    "container = get_image_uri(boto3.Session().region_name, \"xgboost\", \"0.90-2\")"
   ]
  },
  {
   "cell_type": "code",
   "execution_count": 15,
   "id": "89543b52",
   "metadata": {
    "Collapsed": "false"
   },
   "outputs": [
    {
     "name": "stdout",
     "output_type": "stream",
     "text": [
      "https://s3-us-west-2.amazonaws.com/sagemaker-us-west-2-770499558699/sagemaker/xgboost-byo-1220211216-16-44-22/local-xgboost-model20211216-16-44-22/model.tar.gz\n",
      "CPU times: user 16 ms, sys: 7.74 ms, total: 23.7 ms\n",
      "Wall time: 28.6 ms\n"
     ]
    }
   ],
   "source": [
    "%%time\n",
    "from time import gmtime, strftime\n",
    "\n",
    "model_name = model_file_name + strftime(\"%Y-%m-%d-%H-%M-%S\", gmtime())\n",
    "model_url = \"https://s3-{}.amazonaws.com/{}/{}\".format(region, bucket, key)\n",
    "sm_client = boto3.client(\"sagemaker\")\n",
    "\n",
    "print(model_url)"
   ]
  },
  {
   "cell_type": "code",
   "execution_count": 16,
   "id": "bbff995a",
   "metadata": {
    "Collapsed": "false"
   },
   "outputs": [
    {
     "name": "stdout",
     "output_type": "stream",
     "text": [
      "arn:aws:sagemaker:us-west-2:770499558699:model/local-xgboost-model20211216-16-44-222021-12-16-16-48-27\n",
      "CPU times: user 9.71 ms, sys: 3.97 ms, total: 13.7 ms\n",
      "Wall time: 424 ms\n"
     ]
    }
   ],
   "source": [
    "%%time\n",
    "primary_container = {\n",
    "    \"Image\": container,\n",
    "    \"ModelDataUrl\": model_url,\n",
    "}\n",
    "\n",
    "create_model_response2 = sm_client.create_model(\n",
    "    ModelName=model_name, ExecutionRoleArn=role, PrimaryContainer=primary_container\n",
    ")\n",
    "\n",
    "print(create_model_response2[\"ModelArn\"])"
   ]
  },
  {
   "cell_type": "markdown",
   "id": "ba1085a3",
   "metadata": {
    "Collapsed": "false"
   },
   "source": [
    "# Register Model"
   ]
  },
  {
   "cell_type": "code",
   "execution_count": 36,
   "id": "fa0b17c2",
   "metadata": {
    "Collapsed": "false"
   },
   "outputs": [],
   "source": [
    "model_package_group_name = f'Group-{now}-{rand}'\n",
    "config = {'ModelPackageGroupName': model_package_group_name, \n",
    "          'ModelPackageGroupDescription': 'XGboost model'\n",
    "         }"
   ]
  },
  {
   "cell_type": "markdown",
   "id": "8901ee28",
   "metadata": {
    "Collapsed": "false"
   },
   "source": [
    "### List existing model package groups"
   ]
  },
  {
   "cell_type": "code",
   "execution_count": 37,
   "id": "27fd0952",
   "metadata": {
    "Collapsed": "false"
   },
   "outputs": [
    {
     "data": {
      "text/plain": [
       "[]"
      ]
     },
     "execution_count": 37,
     "metadata": {},
     "output_type": "execute_result"
    }
   ],
   "source": [
    "sm_client.list_model_package_groups(NameContains=model_package_group_name)['ModelPackageGroupSummaryList']"
   ]
  },
  {
   "cell_type": "markdown",
   "id": "638a96a2",
   "metadata": {
    "Collapsed": "false"
   },
   "source": [
    "### Create a model package group"
   ]
  },
  {
   "cell_type": "code",
   "execution_count": 21,
   "id": "7dec50af",
   "metadata": {
    "Collapsed": "false"
   },
   "outputs": [],
   "source": [
    "if not sm_client.list_model_package_groups(NameContains=model_package_group_name)['ModelPackageGroupSummaryList']:\n",
    "    response = sm_client.create_model_package_group(**config)\n",
    "else:\n",
    "    print('Model Package Group already exists!')"
   ]
  },
  {
   "cell_type": "markdown",
   "id": "1c180e7c",
   "metadata": {
    "Collapsed": "false"
   },
   "source": [
    "### Optional: check to see if the model package group is createad"
   ]
  },
  {
   "cell_type": "code",
   "execution_count": 22,
   "id": "8797e731",
   "metadata": {
    "Collapsed": "false"
   },
   "outputs": [
    {
     "data": {
      "text/plain": [
       "[{'ModelPackageGroupName': 'Group20211216-16-44-22',\n",
       "  'ModelPackageGroupArn': 'arn:aws:sagemaker:us-west-2:770499558699:model-package-group/group20211216-16-44-22',\n",
       "  'ModelPackageGroupDescription': 'XGboost model',\n",
       "  'CreationTime': datetime.datetime(2021, 12, 16, 16, 52, 30, 521000, tzinfo=tzlocal()),\n",
       "  'ModelPackageGroupStatus': 'Completed'}]"
      ]
     },
     "execution_count": 22,
     "metadata": {},
     "output_type": "execute_result"
    }
   ],
   "source": [
    "sm_client.list_model_package_groups(NameContains=model_package_group_name)['ModelPackageGroupSummaryList']\n",
    "# sm_client.list_model_packages(ModelPackageGroupName=model_package_group_name)"
   ]
  },
  {
   "cell_type": "code",
   "execution_count": 23,
   "id": "21b139e3",
   "metadata": {
    "Collapsed": "false"
   },
   "outputs": [],
   "source": [
    "modelpackage_inference_specification =  {\n",
    "    \"InferenceSpecification\": {\n",
    "      \"Containers\": [\n",
    "         {\n",
    "            \"Image\": container,\n",
    "         }\n",
    "      ],\n",
    "      \"SupportedContentTypes\": [ \"text/csv\" ],\n",
    "      \"SupportedResponseMIMETypes\": [ \"text/csv\" ],\n",
    "   }\n",
    " }\n",
    "\n",
    "# Specify the model data\n",
    "modelpackage_inference_specification[\"InferenceSpecification\"][\"Containers\"][0][\"ModelDataUrl\"]=model_url\n",
    "\n",
    "create_model_package_input_dict = {\n",
    "    \"ModelPackageGroupName\" : model_package_group_name,\n",
    "    \"ModelPackageDescription\" : \"Model to detect different types of ....\",\n",
    "    \"ModelApprovalStatus\" : \"Approved\"\n",
    "}\n",
    "create_model_package_input_dict.update(modelpackage_inference_specification)"
   ]
  },
  {
   "cell_type": "code",
   "execution_count": 24,
   "id": "895d3e2a",
   "metadata": {
    "Collapsed": "false"
   },
   "outputs": [
    {
     "name": "stdout",
     "output_type": "stream",
     "text": [
      "ModelPackage Version ARN : arn:aws:sagemaker:us-west-2:770499558699:model-package/group20211216-16-44-22/1\n"
     ]
    }
   ],
   "source": [
    "create_mode_package_response = sm_client.create_model_package(**create_model_package_input_dict)\n",
    "model_package_arn = create_mode_package_response[\"ModelPackageArn\"]\n",
    "print('ModelPackage Version ARN : {}'.format(model_package_arn))"
   ]
  },
  {
   "cell_type": "markdown",
   "id": "66fe0eb7",
   "metadata": {
    "Collapsed": "false"
   },
   "source": [
    "# Optional: Create endpoint configuration\n",
    "\n",
    "SageMaker supports configuring REST endpoints in hosting with multiple models, e.g. for A/B testing purposes. In order to support this, you can create an endpoint configuration, that describes the distribution of traffic across the models, whether split, shadowed, or sampled in some way. In addition, the endpoint configuration describes the instance type required for model deployment."
   ]
  },
  {
   "cell_type": "raw",
   "id": "9d2e2ba5",
   "metadata": {
    "Collapsed": "false"
   },
   "source": [
    "from time import gmtime, strftime\n",
    "\n",
    "endpoint_config_name = \"DEMO-XGBoostEndpointConfig-\" + strftime(\"%Y-%m-%d-%H-%M-%S\", gmtime())\n",
    "print(endpoint_config_name)\n",
    "create_endpoint_config_response = sm_client.create_endpoint_config(\n",
    "    EndpointConfigName=endpoint_config_name,\n",
    "    ProductionVariants=[\n",
    "        {\n",
    "            \"InstanceType\": \"ml.m4.xlarge\",\n",
    "            \"InitialInstanceCount\": 1,\n",
    "            \"InitialVariantWeight\": 1,\n",
    "            \"ModelName\": model_name,\n",
    "            \"VariantName\": \"AllTraffic\",\n",
    "        }\n",
    "    ],\n",
    ")\n",
    "\n",
    "print(\"Endpoint Config Arn: \" + create_endpoint_config_response[\"EndpointConfigArn\"])"
   ]
  },
  {
   "cell_type": "markdown",
   "id": "8fb909d1",
   "metadata": {
    "Collapsed": "false"
   },
   "source": [
    "### Create endpoint\n",
    "Lastly, you create the endpoint that serves up the model, through specifying the name and configuration defined above. The end result is an endpoint that can be validated and incorporated into production applications. This takes 9-11 minutes to complete."
   ]
  },
  {
   "cell_type": "raw",
   "id": "f0c0bda1",
   "metadata": {
    "Collapsed": "false"
   },
   "source": [
    "%%time\n",
    "import time\n",
    "\n",
    "endpoint_name = \"DEMO-XGBoostEndpoint-\" + strftime(\"%Y-%m-%d-%H-%M-%S\", gmtime())\n",
    "print(endpoint_name)\n",
    "create_endpoint_response = sm_client.create_endpoint(\n",
    "    EndpointName=endpoint_name, EndpointConfigName=endpoint_config_name\n",
    ")\n",
    "print(create_endpoint_response[\"EndpointArn\"])\n",
    "\n",
    "resp = sm_client.describe_endpoint(EndpointName=endpoint_name)\n",
    "status = resp[\"EndpointStatus\"]\n",
    "print(\"Status: \" + status)\n",
    "\n",
    "while status == \"Creating\":\n",
    "    time.sleep(60)\n",
    "    resp = sm_client.describe_endpoint(EndpointName=endpoint_name)\n",
    "    status = resp[\"EndpointStatus\"]\n",
    "    print(\"Status: \" + status)\n",
    "\n",
    "print(\"Arn: \" + resp[\"EndpointArn\"])\n",
    "print(\"Status: \" + status)"
   ]
  },
  {
   "cell_type": "markdown",
   "id": "c23154e4",
   "metadata": {
    "Collapsed": "false"
   },
   "source": [
    "## Validate the model for use\n",
    "Now you can obtain the endpoint from the client library using the result from previous operations and generate classifications from the model using that endpoint."
   ]
  },
  {
   "cell_type": "raw",
   "id": "94856495",
   "metadata": {
    "Collapsed": "false"
   },
   "source": [
    "runtime_client = boto3.client(\"runtime.sagemaker\")"
   ]
  },
  {
   "cell_type": "markdown",
   "id": "7ba60e51",
   "metadata": {
    "Collapsed": "false"
   },
   "source": [
    "Lets generate the prediction for a single datapoint. We'll pick one from the test data generated earlier."
   ]
  },
  {
   "cell_type": "raw",
   "id": "2d0be7ae",
   "metadata": {
    "Collapsed": "false"
   },
   "source": [
    "import numpy as np\n",
    "\n",
    "point_X = test_X[0]\n",
    "point_X = np.expand_dims(point_X, axis=0)\n",
    "point_y = test_y[0]\n",
    "np.savetxt(\"test_point.csv\", point_X, delimiter=\",\")"
   ]
  },
  {
   "cell_type": "raw",
   "id": "efab42ea",
   "metadata": {
    "Collapsed": "false"
   },
   "source": [
    "%%time\n",
    "import json\n",
    "\n",
    "\n",
    "file_name = (\n",
    "    \"test_point.csv\"  # customize to your test file, will be 'mnist.single.test' if use data above\n",
    ")\n",
    "\n",
    "with open(file_name, \"r\") as f:\n",
    "    payload = f.read().strip()\n",
    "\n",
    "response = runtime_client.invoke_endpoint(\n",
    "    EndpointName=endpoint_name, ContentType=\"text/csv\", Body=payload\n",
    ")\n",
    "result = response[\"Body\"].read().decode(\"ascii\")\n",
    "print(\"Predicted Class Probabilities: {}.\".format(result))"
   ]
  },
  {
   "cell_type": "markdown",
   "id": "6b2b6578",
   "metadata": {
    "Collapsed": "false"
   },
   "source": [
    "### Post process the output\n",
    "Since the result is a string, let's process it to determine the the output class label. "
   ]
  },
  {
   "cell_type": "raw",
   "id": "c195c93c",
   "metadata": {
    "Collapsed": "false"
   },
   "source": [
    "floatArr = np.array(json.loads(result))\n",
    "predictedLabel = np.argmax(floatArr)\n",
    "print(\"Predicted Class Label: {}.\".format(predictedLabel))\n",
    "print(\"Actual Class Label: {}.\".format(point_y))"
   ]
  },
  {
   "cell_type": "markdown",
   "id": "292cb710",
   "metadata": {
    "Collapsed": "false"
   },
   "source": [
    "### (Optional) Delete the Endpoint\n",
    "\n",
    "If you're ready to be done with this notebook, please run the delete_endpoint line in the cell below.  This will remove the hosted endpoint you created and avoid any charges from a stray instance being left on."
   ]
  },
  {
   "cell_type": "raw",
   "id": "6b820a4d",
   "metadata": {
    "Collapsed": "false"
   },
   "source": [
    "sm_client.delete_endpoint(EndpointName=endpoint_name)"
   ]
  }
 ],
 "metadata": {
  "anaconda-cloud": {},
  "instance_type": "ml.t3.medium",
  "kernelspec": {
   "display_name": "Python 3 (Data Science)",
   "language": "python",
   "name": "python3__SAGEMAKER_INTERNAL__arn:aws:sagemaker:us-west-2:236514542706:image/datascience-1.0"
  },
  "language_info": {
   "codemirror_mode": {
    "name": "ipython",
    "version": 3
   },
   "file_extension": ".py",
   "mimetype": "text/x-python",
   "name": "python",
   "nbconvert_exporter": "python",
   "pygments_lexer": "ipython3",
   "version": "3.7.10"
  },
  "notice": "Copyright 2017 Amazon.com, Inc. or its affiliates. All Rights Reserved.  Licensed under the Apache License, Version 2.0 (the \"License\"). You may not use this file except in compliance with the License. A copy of the License is located at http://aws.amazon.com/apache2.0/ or in the \"license\" file accompanying this file. This file is distributed on an \"AS IS\" BASIS, WITHOUT WARRANTIES OR CONDITIONS OF ANY KIND, either express or implied. See the License for the specific language governing permissions and limitations under the License."
 },
 "nbformat": 4,
 "nbformat_minor": 5
}
